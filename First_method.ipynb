{
 "cells": [
  {
   "cell_type": "code",
   "execution_count": null,
   "metadata": {},
   "outputs": [],
   "source": [
    "import pandas as pd\n",
    "import time as time \n",
    "file = \"/Users/mac/Desktop/数据科学导论作业/ch2/Sample - Superstore.xls\"\n",
    "data = pd.read_excel(file, \"Orders\") #reading file \n",
    "PID=sample[\"Product ID\"]\n",
    "OID=sample[\"Order ID\"]\n",
    "print(len(PID))"
   ]
  },
  {
   "cell_type": "code",
   "execution_count": null,
   "metadata": {},
   "outputs": [],
   "source": [
    "def adjCount(theDict, key):\n",
    "    if key in theDict:\n",
    "        theDict[key]+=1\n",
    "    else:\n",
    "        theDict[key]=1"
   ]
  },
  {
   "cell_type": "code",
   "execution_count": null,
   "metadata": {},
   "outputs": [],
   "source": [
    "def adjCountBy(theDict, xkey, ykey):\n",
    "    if not (xkey in theDict):\n",
    "        theDict[xkey]={ykey:1}\n",
    "    else:\n",
    "        adjCount(theDict[xkey],ykey)"
   ]
  },
  {
   "cell_type": "code",
   "execution_count": null,
   "metadata": {},
   "outputs": [],
   "source": [
    "# get the list and number of each item and the number of orders\n",
    "t0 = time.time()\n",
    "def getCounts(OID,PID):\n",
    "    n=len(PID)\n",
    "    itemsets={}\n",
    "    n_X={}\n",
    "\n",
    "    starting=0\n",
    "    ending=0\n",
    "    nTransactions=0\n",
    "    for i in range(1,n+1):\n",
    "        if i==n or OID[i-1]!=OID[i]:\n",
    "            nTransactions+=1\n",
    "            ending=i\n",
    "            #print(\"------\", OID[i-1],\"------ [\", starting,\":\",ending,\"]\")\n",
    "            for j in range(starting,ending):\n",
    "                xkey=PID[j].upper().rstrip()\n",
    "                adjCount(n_X, xkey)\n",
    "                for k in range(j+1, ending):\n",
    "                    ykey=PID[k].upper()\n",
    "                    if xkey!=ykey:\n",
    "                        #print(xkey+\"  \"+ykey)\n",
    "                        adjCountBy(itemsets, xkey,ykey)\n",
    "                        adjCountBy(itemsets, ykey,xkey)\n",
    "            starting=i\n",
    "    return itemsets, n_X, nTransactions\n",
    "\n",
    "itemsets, n_X, nTransactions=getCounts(OID,PID)\n",
    "print(\"nTransection:\",nTransactions)\n",
    "print(\"nGoods:\",len(n_X))\n",
    "print('time:',time.time()-t0)"
   ]
  },
  {
   "cell_type": "code",
   "execution_count": null,
   "metadata": {},
   "outputs": [],
   "source": [
    "def toDataFrame(itemsets, n_X, nTransactions, minSupt=0.0, minConf=0.0):\n",
    "    XID,YID, n_XY,n_X_,supports,confs, lifts=[],[],[],[],[],[],[]\n",
    "\n",
    "    for x in itemsets:\n",
    "        support=n_X[x]/nTransactions\n",
    "        if support>minSupt:\n",
    "            for ykey in itemsets[x]:\n",
    "                confidence=itemsets[x][ykey]/n_X[x]\n",
    "                if confidence>minConf:\n",
    "                    XID.append(x)\n",
    "                    YID.append(ykey)\n",
    "                    n_XY.append(itemsets[x][ykey])\n",
    "                    n_X_.append(n_X[x])\n",
    "                    supports.append(support)\n",
    "                    confs.append(confidence)\n",
    "                    lifts.append(confidence/n_X[ykey])\n",
    "\n",
    "    return pd.DataFrame({\"XID\":XID, \"YID\":YID, \"n_XY\":n_XY, \"n_X\":n_X_, \"n_Transections\":nTransactions, \\\n",
    "                     \"support\":supports, \"confidence\":confs, \"lift\": lifts})\n",
    "DF=toDataFrame(itemsets, n_X, nTransactions)\n",
    "print(len(DF))"
   ]
  },
  {
   "cell_type": "code",
   "execution_count": null,
   "metadata": {},
   "outputs": [],
   "source": [
    "# all in one\n",
    "t0=time.time()\n",
    "itemsets, n_X, nTransactions=getCounts(OID,PID)\n",
    "print(\"nTransection:\",nTransactions)\n",
    "print(\"nGoods:\",len(n_X))\n",
    "print(\"execution time for part 1:\", time.time()-t0)\n",
    "t1=time.time()\n",
    "\n",
    "DF=toDataFrame(itemsets, n_X, nTransactions)\n",
    "\n",
    "print(\"execution time for part2:\", time.time()-t1)\n",
    "print(\"totl execution time:\", time.time()-t0)\n",
    "\n",
    "print(\"nTransection:\",nTransactions)\n",
    "print(\"nGoods:\",len(n_X))\n",
    "print(\"nPairs:\",len(DF))\n",
    "\n",
    "\n"
   ]
  }
 ],
 "metadata": {
  "kernelspec": {
   "display_name": "Python 3",
   "language": "python",
   "name": "python3"
  },
  "language_info": {
   "codemirror_mode": {
    "name": "ipython",
    "version": 3
   },
   "file_extension": ".py",
   "mimetype": "text/x-python",
   "name": "python",
   "nbconvert_exporter": "python",
   "pygments_lexer": "ipython3",
   "version": "3.7.3"
  }
 },
 "nbformat": 4,
 "nbformat_minor": 2
}
