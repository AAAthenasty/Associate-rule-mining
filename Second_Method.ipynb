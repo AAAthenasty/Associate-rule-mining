{
 "cells": [
  {
   "cell_type": "code",
   "execution_count": 1,
   "metadata": {},
   "outputs": [],
   "source": [
    "import pandas as pd\n",
    "import time"
   ]
  },
  {
   "cell_type": "code",
   "execution_count": 2,
   "metadata": {},
   "outputs": [
    {
     "name": "stderr",
     "output_type": "stream",
     "text": [
      "/Users/mac/anaconda3/lib/python3.7/site-packages/pandas/util/_decorators.py:188: FutureWarning: The `sheetname` keyword is deprecated, use `sheet_name` instead\n",
      "  return func(*args, **kwargs)\n"
     ]
    }
   ],
   "source": [
    "transcation= pd.read_excel('/Users/mac/Desktop/数据科学导论作业/ch2/Sample - Superstore.xls', sheetname='Orders', index_col='Row ID')\n",
    "transcation = transcation[['Order ID','Product ID']]"
   ]
  },
  {
   "cell_type": "code",
   "execution_count": 4,
   "metadata": {},
   "outputs": [],
   "source": [
    "def sum_data(df):\n",
    "    Product_X = pd.DataFrame(df.groupby('Product ID').size(),columns = ['n_X']).reset_index()\n",
    "    Product_Y = pd.DataFrame(df.groupby('Product ID').size(),columns = ['n_Y']).reset_index()\n",
    "    Product_X.columns = ['XID','n_X']\n",
    "    Product_Y.columns = ['YID','n_Y']\n",
    "    #make two dataframe contains the count of appearance in each OrderID for each product and prepare for the later merge\n",
    "    transaction = len(df.groupby('Order ID').count())\n",
    "    #count the number of orders\n",
    "    df1=df\n",
    "    df_m = pd.merge(df1,df,on=['Order ID'])\n",
    "    df_m.columns = ['Order ID','XID','YID']\n",
    "    df_m = df_m.drop(df_m[df_m['XID']==df_m['YID']].index.values)\n",
    "    #outer join two dataframe(they are the same), to get the pairs based on the orderid and drop the paris of same products\n",
    "    cross_count = pd.DataFrame(df_m.groupby(['XID','YID']).size(),columns = ['n_XY']).reset_index()\n",
    "    #count the number of each pairs \n",
    "    sum_data = pd.merge(cross_count,Product_X,on=['XID'])\n",
    "    sum_data = pd.merge(sum_data,Product_Y,on=['YID'])\n",
    "    #merge the data with the first two dataframe to get the number of XID&YID for the later calculation\n",
    "    sum_data['n_transaction']=transaction\n",
    "    sum_data['support']=sum_data['n_X']/sum_data['n_transaction']\n",
    "    sum_data['confidence']=sum_data['n_XY']/sum_data['n_X']\n",
    "    sum_data['lift']=sum_data['confidence']/sum_data['n_Y']\n",
    "    return sum_data,transaction,len(Product_X)"
   ]
  },
  {
   "cell_type": "code",
   "execution_count": 8,
   "metadata": {},
   "outputs": [
    {
     "name": "stdout",
     "output_type": "stream",
     "text": [
      "execution time: 0.040540218353271484\n"
     ]
    }
   ],
   "source": [
    "t0=time.time()\n",
    "sample_result,sample_transaction,sample_Goods= sum_data(sample)\n",
    "print('execution time:' ,time.time()-t0)"
   ]
  },
  {
   "cell_type": "code",
   "execution_count": 16,
   "metadata": {},
   "outputs": [
    {
     "name": "stdout",
     "output_type": "stream",
     "text": [
      "n_transaction 5009\n",
      "n_Goods 1862\n",
      "npairs 19786\n",
      "total execution time: 0.08544421195983887\n"
     ]
    }
   ],
   "source": [
    "t0 = time.time()\n",
    "sum_result,n_transaction,n_Goods = sum_data(transcation)\n",
    "print('n_transaction',n_transaction)\n",
    "print('n_Goods',n_Goods)\n",
    "print('npairs',len(sum_result))\n",
    "print('total execution time:',time.time()-t0)"
   ]
  },
  {
   "cell_type": "code",
   "execution_count": 17,
   "metadata": {},
   "outputs": [],
   "source": [
    "with pd.ExcelWriter('/Users/mac/Desktop/数据科学导论作业/ch2/sum_data.xlsx') as writer:\n",
    "    sample_result.to_excel(writer,sheet_name='sheet1')\n",
    "    sum_result.to_excel(writer,sheet_name='sheet2')"
   ]
  },
  {
   "cell_type": "code",
   "execution_count": null,
   "metadata": {},
   "outputs": [],
   "source": []
  }
 ],
 "metadata": {
  "kernelspec": {
   "display_name": "Python 3",
   "language": "python",
   "name": "python3"
  },
  "language_info": {
   "codemirror_mode": {
    "name": "ipython",
    "version": 3
   },
   "file_extension": ".py",
   "mimetype": "text/x-python",
   "name": "python",
   "nbconvert_exporter": "python",
   "pygments_lexer": "ipython3",
   "version": "3.7.3"
  }
 },
 "nbformat": 4,
 "nbformat_minor": 2
}
